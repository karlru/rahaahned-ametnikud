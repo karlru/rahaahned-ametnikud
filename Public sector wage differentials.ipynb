{
 "cells": [
  {
   "cell_type": "markdown",
   "id": "f5ac3d56",
   "metadata": {},
   "source": [
    "# Goal 1: the goal of this project is to get an overview of wage differences in public sector based on gender and institution."
   ]
  },
  {
   "cell_type": "code",
   "execution_count": 1,
   "id": "df4c30d2",
   "metadata": {},
   "outputs": [],
   "source": [
    "#TODO"
   ]
  },
  {
   "cell_type": "markdown",
   "id": "e94595ee",
   "metadata": {},
   "source": [
    "# Goal 2: the goal of this project is to get an overview of how much the salaries differ and have changed compared to the general averages."
   ]
  },
  {
   "cell_type": "code",
   "execution_count": 2,
   "id": "1530a00d",
   "metadata": {},
   "outputs": [],
   "source": [
    "#TODO"
   ]
  },
  {
   "cell_type": "markdown",
   "id": "059302d1",
   "metadata": {},
   "source": [
    "# Goal 3: train a gender classification model based on first names."
   ]
  },
  {
   "cell_type": "code",
   "execution_count": 3,
   "id": "a6d46a6b",
   "metadata": {},
   "outputs": [],
   "source": [
    "#TODO"
   ]
  }
 ],
 "metadata": {
  "kernelspec": {
   "display_name": "Python 3 (ipykernel)",
   "language": "python",
   "name": "python3"
  },
  "language_info": {
   "codemirror_mode": {
    "name": "ipython",
    "version": 3
   },
   "file_extension": ".py",
   "mimetype": "text/x-python",
   "name": "python",
   "nbconvert_exporter": "python",
   "pygments_lexer": "ipython3",
   "version": "3.9.12"
  }
 },
 "nbformat": 4,
 "nbformat_minor": 5
}
