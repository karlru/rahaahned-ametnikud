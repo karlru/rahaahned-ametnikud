{
 "cells": [
  {
   "cell_type": "markdown",
   "id": "200575ae",
   "metadata": {},
   "source": [
    "# Goal 1: the goal of this project is to get an overview of wage differences in public sector based on gender and institution."
   ]
  },
  {
   "cell_type": "code",
   "execution_count": 1,
   "id": "29adf96d",
   "metadata": {},
   "outputs": [],
   "source": [
    "import numpy as np\n",
    "import pandas as pd"
   ]
  },
  {
   "cell_type": "code",
   "execution_count": 43,
   "id": "697ffdab",
   "metadata": {},
   "outputs": [],
   "source": [
    "#reading the data in with cleaning\n",
    "\n",
    "data2018 = pd.read_csv(\"pohipalk_2018.csv\", \n",
    "            usecols=lambda x: x not in ['Unnamed: 0.3','Unnamed: 0.2', 'Unnamed: 0.1','Unnamed: 0'])\n",
    "\n",
    "data2019 = pd.read_csv(\"pohipalk_2019.csv\", \n",
    "            usecols=lambda x: x not in ['Unnamed: 0.3','Unnamed: 0.2', 'Unnamed: 0.1','Unnamed: 0'])\n",
    "\n",
    "data2020 = pd.read_csv(\"pohipalk_2020.csv\", \n",
    "            usecols=lambda x: x not in ['Unnamed: 0.3','Unnamed: 0.2', 'Unnamed: 0.1','Unnamed: 0'])\n",
    "\n",
    "data2021 = pd.read_csv(\"pohipalk_2021.csv\", \n",
    "            usecols=lambda x: x not in ['Unnamed: 0.3','Unnamed: 0.2', 'Unnamed: 0.1','Unnamed: 0'])"
   ]
  },
  {
   "cell_type": "code",
   "execution_count": 19,
   "id": "46b9f0f0",
   "metadata": {},
   "outputs": [
    {
     "data": {
      "text/html": [
       "<div>\n",
       "<style scoped>\n",
       "    .dataframe tbody tr th:only-of-type {\n",
       "        vertical-align: middle;\n",
       "    }\n",
       "\n",
       "    .dataframe tbody tr th {\n",
       "        vertical-align: top;\n",
       "    }\n",
       "\n",
       "    .dataframe thead th {\n",
       "        text-align: right;\n",
       "    }\n",
       "</style>\n",
       "<table border=\"1\" class=\"dataframe\">\n",
       "  <thead>\n",
       "    <tr style=\"text-align: right;\">\n",
       "      <th></th>\n",
       "      <th>Ametniku koormus ametkohal</th>\n",
       "      <th>Põhipalk</th>\n",
       "    </tr>\n",
       "  </thead>\n",
       "  <tbody>\n",
       "    <tr>\n",
       "      <th>count</th>\n",
       "      <td>11233.000000</td>\n",
       "      <td>11229.000000</td>\n",
       "    </tr>\n",
       "    <tr>\n",
       "      <th>mean</th>\n",
       "      <td>0.985389</td>\n",
       "      <td>1738.576725</td>\n",
       "    </tr>\n",
       "    <tr>\n",
       "      <th>std</th>\n",
       "      <td>0.091055</td>\n",
       "      <td>786.591462</td>\n",
       "    </tr>\n",
       "    <tr>\n",
       "      <th>min</th>\n",
       "      <td>0.050000</td>\n",
       "      <td>0.000000</td>\n",
       "    </tr>\n",
       "    <tr>\n",
       "      <th>25%</th>\n",
       "      <td>1.000000</td>\n",
       "      <td>1250.000000</td>\n",
       "    </tr>\n",
       "    <tr>\n",
       "      <th>50%</th>\n",
       "      <td>1.000000</td>\n",
       "      <td>1500.000000</td>\n",
       "    </tr>\n",
       "    <tr>\n",
       "      <th>75%</th>\n",
       "      <td>1.000000</td>\n",
       "      <td>2000.560000</td>\n",
       "    </tr>\n",
       "    <tr>\n",
       "      <th>max</th>\n",
       "      <td>1.125000</td>\n",
       "      <td>6500.000000</td>\n",
       "    </tr>\n",
       "  </tbody>\n",
       "</table>\n",
       "</div>"
      ],
      "text/plain": [
       "       Ametniku koormus ametkohal      Põhipalk\n",
       "count                11233.000000  11229.000000\n",
       "mean                     0.985389   1738.576725\n",
       "std                      0.091055    786.591462\n",
       "min                      0.050000      0.000000\n",
       "25%                      1.000000   1250.000000\n",
       "50%                      1.000000   1500.000000\n",
       "75%                      1.000000   2000.560000\n",
       "max                      1.125000   6500.000000"
      ]
     },
     "execution_count": 19,
     "metadata": {},
     "output_type": "execute_result"
    }
   ],
   "source": [
    "data2018.describe()\n",
    "# To get the overall mean"
   ]
  },
  {
   "cell_type": "code",
   "execution_count": 52,
   "id": "32de7a5e",
   "metadata": {},
   "outputs": [
    {
     "data": {
      "text/plain": [
       "<AxesSubplot:title={'center':'Wage differences in public sector based on gender'}>"
      ]
     },
     "execution_count": 52,
     "metadata": {},
     "output_type": "execute_result"
    },
    {
     "data": {
      "image/png": "[encoded data removed]",
      "text/plain": [
       "<Figure size 432x288 with 1 Axes>"
      ]
     },
     "metadata": {
      "needs_background": "light"
     },
     "output_type": "display_data"
    }
   ],
   "source": [
    "# Differences based on gender\n",
    "# Find salary means separately for men and women \n",
    "# Eventually make a histogram to visualise the differences\n",
    "\n",
    "data2018_men = data2018[data2018[\"Sugu\"] == \"M\"]\n",
    "men2018_salary = data2018_men['Põhipalk']\n",
    "men18_mean = men2018_salary.mean()\n",
    "\n",
    "data2018_women = data2018[data2018[\"Sugu\"] == \"N\"]\n",
    "women2018_salary = data2018_women['Põhipalk']\n",
    "women18_mean = women2018_salary.mean()\n",
    "\n",
    "\n",
    "data2019_men = data2019[data2019[\"Sugu\"] == \"M\"]\n",
    "men2019_salary = data2019_men['Põhipalk']\n",
    "men19_mean = men2019_salary.mean()\n",
    "\n",
    "data2019_women = data2019[data2019[\"Sugu\"] == \"N\"]\n",
    "women2019_salary = data2019_women['Põhipalk']\n",
    "women19_mean = women2019_salary.mean()\n",
    "\n",
    "\n",
    "data2020_men = data2020[data2020[\"Sugu\"] == \"M\"]\n",
    "men2020_salary = data2020_men['Põhipalk']\n",
    "men20_mean = men2020_salary.mean()\n",
    "\n",
    "data2020_women = data2020[data2020[\"Sugu\"] == \"N\"]\n",
    "women2020_salary = data2020_women['Põhipalk']\n",
    "women20_mean = women2020_salary.mean()\n",
    "\n",
    "\n",
    "data2021_men = data2021[data2021[\"Sugu\"] == \"M\"]\n",
    "men2021_salary = data2021_men['Põhipalk']\n",
    "men21_mean = men2021_salary.mean()\n",
    "\n",
    "data2021_women = data2021[data2021[\"Sugu\"] == \"N\"]\n",
    "women2021_salary = data2021_women['Põhipalk']\n",
    "women21_mean = women2021_salary.mean()\n",
    "\n",
    "menwomen = pd.DataFrame({ 'Salary' : [men18_mean, women18_mean, men19_mean, women19_mean, men20_mean, women20_mean, men21_mean, women21_mean]},\n",
    "                            index = [\"Men18\", \"Women18\", \"Men19\", \"Women19\", \"Men20\", \"Women20\", \"Men21\", \"Women21\"]\n",
    "                    )\n",
    "menwomen.plot(kind = \"bar\", title = \"Wage differences in public sector based on gender\")\n",
    "\n",
    "# tahaksin joonistada siia ka joone, kus on yldine keskmine ka, aga ei oska"
   ]
  },
  {
   "cell_type": "code",
   "execution_count": null,
   "id": "f33f85bd",
   "metadata": {},
   "outputs": [],
   "source": [
    "# Kui on aega, siis arvutada ka protsendipunktid ja raporteerida neid"
   ]
  },
  {
   "cell_type": "code",
   "execution_count": 55,
   "id": "aff315b3",
   "metadata": {},
   "outputs": [
    {
     "data": {
      "text/plain": [
       "Õigusteenistus                               260\n",
       "Maksuauditi osakond                          255\n",
       "Järelevalveosakond                           213\n",
       "Teenuste osakond                             198\n",
       "Kohtunikud                                   163\n",
       "                                            ... \n",
       "Viru malev                                     1\n",
       "Siseturu valdkond                              1\n",
       "Sotsiaaldemokraatliku Erakonna fraktsioon      1\n",
       "Isamaa fraktsioon                              1\n",
       "Riigikogu esimehe büroo                        1\n",
       "Name: Struktuuriüksus, Length: 1118, dtype: int64"
      ]
     },
     "execution_count": 55,
     "metadata": {},
     "output_type": "execute_result"
    }
   ],
   "source": [
    "# Wage differences based on institution\n",
    "\n",
    "data2018[\"Struktuuriüksus\"].value_counts()"
   ]
  },
  {
   "cell_type": "markdown",
   "id": "8fa21215",
   "metadata": {},
   "source": [
    "# Goal 2: the goal of this project is to get an overview of how much the salaries differ and have changed compared to the general averages."
   ]
  },
  {
   "cell_type": "code",
   "execution_count": 3,
   "id": "c2a888ee",
   "metadata": {},
   "outputs": [],
   "source": [
    "#TODO"
   ]
  },
  {
   "cell_type": "markdown",
   "id": "06c299d3",
   "metadata": {},
   "source": [
    "# Goal 3: train a gender classification model based on first names."
   ]
  },
  {
   "cell_type": "code",
   "execution_count": 4,
   "id": "23f99d2f",
   "metadata": {},
   "outputs": [],
   "source": [
    "#TODO"
   ]
  }
 ],
 "metadata": {
  "kernelspec": {
   "display_name": "Python 3 (ipykernel)",
   "language": "python",
   "name": "python3"
  },
  "language_info": {
   "codemirror_mode": {
    "name": "ipython",
    "version": 3
   },
   "file_extension": ".py",
   "mimetype": "text/x-python",
   "name": "python",
   "nbconvert_exporter": "python",
   "pygments_lexer": "ipython3",
   "version": "3.9.12"
  }
 },
 "nbformat": 4,
 "nbformat_minor": 5
}
