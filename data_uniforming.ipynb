{
 "cells": [
  {
   "cell_type": "code",
   "execution_count": 1,
   "id": "b0063adb",
   "metadata": {},
   "outputs": [],
   "source": [
    "import pandas as pd"
   ]
  },
  {
   "cell_type": "code",
   "execution_count": 10,
   "id": "dce43414",
   "metadata": {},
   "outputs": [],
   "source": [
    "data_2018 = pd.read_excel(\n",
    "    \"data/ametnike_palgad_2018.xlsx\", \n",
    "    sheet_name=2, \n",
    "    header=2, \n",
    "    skiprows=[3]\n",
    ")\n",
    "\n",
    "data_2018.to_csv('data/pohipalk_2018.csv')"
   ]
  },
  {
   "cell_type": "code",
   "execution_count": 11,
   "id": "ec635c59",
   "metadata": {},
   "outputs": [],
   "source": [
    "data_2019 = pd.read_excel(\n",
    "    \"data/ametnike_palgad_2019.xlsx\", \n",
    "    sheet_name=2, \n",
    "    header=4, \n",
    "    skiprows=[5]\n",
    ")\n",
    "\n",
    "data_2019.to_csv('data/pohipalk_2019.csv')"
   ]
  },
  {
   "cell_type": "code",
   "execution_count": 12,
   "id": "0ab3c32b",
   "metadata": {},
   "outputs": [],
   "source": [
    "data_2020 = pd.read_excel(\n",
    "    \"data/ametnike_palgad_2020.xlsx\", \n",
    "    sheet_name=2, \n",
    "    header=4, \n",
    "    skiprows=[5]\n",
    ")\n",
    "\n",
    "data_2020.to_csv('data/pohipalk_2020.csv')"
   ]
  },
  {
   "cell_type": "code",
   "execution_count": 13,
   "id": "719d62b5",
   "metadata": {},
   "outputs": [],
   "source": [
    "data_2021 = pd.read_excel(\n",
    "    \"data/ametnike_palgad_2021.xlsx\", \n",
    "    sheet_name=2, \n",
    "    header=4, \n",
    "    skiprows=[5]\n",
    ")\n",
    "\n",
    "data_2021.to_csv('data/pohipalk_2021.csv')"
   ]
  }
 ],
 "metadata": {
  "kernelspec": {
   "display_name": "Python 3 (ipykernel)",
   "language": "python",
   "name": "python3"
  },
  "language_info": {
   "codemirror_mode": {
    "name": "ipython",
    "version": 3
   },
   "file_extension": ".py",
   "mimetype": "text/x-python",
   "name": "python",
   "nbconvert_exporter": "python",
   "pygments_lexer": "ipython3",
   "version": "3.10.8"
  }
 },
 "nbformat": 4,
 "nbformat_minor": 5
}
